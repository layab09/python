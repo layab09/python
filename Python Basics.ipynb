{
 "cells": [
  {
   "cell_type": "markdown",
   "id": "fe4218af-8e2d-45bb-b600-9bd9e9f5165d",
   "metadata": {},
   "source": [
    "\n",
    "PYTHON BASICS"
   ]
  },
  {
   "cell_type": "markdown",
   "id": "4cf50ff8-f1d5-47be-b509-46bdbab0a130",
   "metadata": {},
   "source": [
    "1. What is Python, and why is it popular?\n",
    " ANS>  Python is a high-level, interpreted programming language known for its simplicity and readability. It is popular because of its easy-to-learn syntax, extensive libraries, and versatility across fields like web development, data analysis, artificial intelligence, automation, and more.\n",
    "\n",
    "2. What is an interpreter in Python?\n",
    "ANS>   An interpreter is a program that reads and executes Python code line by line. It converts the Python code into machine code that the computer can understand, unlike a compiler that translates the entire code before execution.\n",
    "\n",
    "3. What are pre-defined keywords in Python?\n",
    " ANS>  Pre-defined keywords in Python are reserved words that the Python language uses for its syntax and structure. These include words like if, else, def, class, import, etc. They cannot be used as variable names because they have specific meanings.\n",
    "\n",
    "4. Can keywords be used as variable names?\n",
    " ANS>  No, keywords cannot be used as variable names. They are reserved by Python and have specific functionality within the language, so using them as identifiers will result in a syntax error.\n",
    "\n",
    "5. What is mutability in Python?\n",
    " ANS>  Mutability refers to whether an object’s state or value can be changed after it is created. In Python, mutable objects, like lists and dictionaries, can have their contents modified, while immutable objects, like strings and tuples, cannot.\n",
    "\n",
    "6. Why are lists mutable, but tuples are immutable?\n",
    " ANS>  Lists are mutable because they are designed to allow changes to their contents (e.g., adding or removing elements), which makes them more flexible for dynamic operations. Tuples, on the other hand, are immutable to ensure that their contents remain fixed, which provides safety for certain operations and performance benefits, especially when used as dictionary keys.\n",
    "\n",
    "7. What is the difference between \"==\" and \"is\" operators in Python?\n",
    "   - == checks if the values of two objects are equal.\n",
    "   - is checks if two objects refer to the same memory location (i.e., they are the same object in memory).\n",
    "\n",
    "8. What are logical operators in Python?\n",
    "   Logical operators in Python are used to combine conditional statements. These include:\n",
    "   - and: Returns True if both conditions are True.\n",
    "   - or: Returns True if at least one of the conditions is True.\n",
    "   - not: Reverses the Boolean value (True becomes False, and vice versa).\n",
    "\n",
    "9. What is type casting in Python?\n",
    "   Type casting in Python is the process of converting one data type into another. For example, converting a string to an integer (int('5')) or a float to an integer (int(3.7)).\n",
    "\n",
    "10. What is the difference between implicit and explicit type casting?\n",
    "    - *Implicit casting* (or coercion) is done automatically by Python when it converts a smaller data type to a larger one, such as converting an integer to a float.\n",
    "    - *Explicit casting* (or type conversion) requires the programmer to manually convert one data type to another using functions like int(), str(), float(), etc.\n",
    "\n",
    "11. What is the purpose of conditional statements in Python?\n",
    "    Conditional statements in Python, such as if, elif, and else, allow the execution of certain blocks of code based on whether a condition is true or false. They enable decision-making in programs.\n",
    "\n",
    "12. How does the elif statement work?\n",
    "    The elif statement (short for \"else if\") is used in conjunction with if and else to check multiple conditions. If the condition for if is False, Python checks the condition of the elif statement. If it's true, the code block following elif is executed.\n",
    "\n",
    "13. What is the difference between for and while loops?\n",
    "    - A *for loop* iterates over a sequence (like a list, tuple, or range) and executes the block of code for each item in the sequence.\n",
    "    - A *while loop* repeatedly executes the block of code as long as the given condition is true. It’s useful when the number of iterations is unknown.\n",
    "\n",
    "14. Describe a scenario where a while loop is more suitable than a for loop.\n",
    "    A *while loop* is more suitable when you don’t know beforehand how many iterations are needed and want to loop until a certain condition is met. For example, reading input from a user until they provide a valid response."
   ]
  },
  {
   "cell_type": "code",
   "execution_count": 5,
   "id": "39f6ebdb-150a-4de5-839e-668428c89eb8",
   "metadata": {},
   "outputs": [],
   "source": [
    "##PRACTICAL_QUESTIONS"
   ]
  },
  {
   "cell_type": "code",
   "execution_count": 7,
   "id": "05f7c3f3-200d-4b44-a704-73ca14a95a06",
   "metadata": {},
   "outputs": [
    {
     "name": "stdout",
     "output_type": "stream",
     "text": [
      "Hello World!\n"
     ]
    }
   ],
   "source": [
    "#write a python program to print \" Hello World!\"\n",
    "\n",
    "print(\"Hello World!\")"
   ]
  },
  {
   "cell_type": "code",
   "execution_count": 11,
   "id": "d0481083-23a6-453a-9d9b-2ea0c1594919",
   "metadata": {},
   "outputs": [
    {
     "name": "stdout",
     "output_type": "stream",
     "text": [
      "Name: B Laya, Age: 21\n"
     ]
    }
   ],
   "source": [
    "#Write a python program that displays your name and age\n",
    "\n",
    "name = \"B Laya\"\n",
    "age = 21\n",
    "print(f\"Name: {name}, Age: {age}\")\n"
   ]
  },
  {
   "cell_type": "code",
   "execution_count": 13,
   "id": "6fb84d22-c461-4c38-b50f-8364b6bf149b",
   "metadata": {},
   "outputs": [
    {
     "name": "stdout",
     "output_type": "stream",
     "text": [
      "Python Keywords: ['False', 'None', 'True', 'and', 'as', 'assert', 'async', 'await', 'break', 'class', 'continue', 'def', 'del', 'elif', 'else', 'except', 'finally', 'for', 'from', 'global', 'if', 'import', 'in', 'is', 'lambda', 'nonlocal', 'not', 'or', 'pass', 'raise', 'return', 'try', 'while', 'with', 'yield']\n"
     ]
    }
   ],
   "source": [
    "#Write code to print all the pre-defined keywords in Python using the keyword library\n",
    "\n",
    "import keyword\n",
    "print(\"Python Keywords:\", keyword.kwlist)\n"
   ]
  },
  {
   "cell_type": "code",
   "execution_count": 15,
   "id": "e4fcde4f-7de2-46ac-a84a-8b4d8a98ac61",
   "metadata": {},
   "outputs": [
    {
     "name": "stdin",
     "output_type": "stream",
     "text": [
      "Enter a word:  if\n"
     ]
    },
    {
     "name": "stdout",
     "output_type": "stream",
     "text": [
      "if is a Python keyword.\n"
     ]
    }
   ],
   "source": [
    "#Write a program that checks if a given word is a Python keyword.\n",
    "\n",
    "import keyword\n",
    "\n",
    "word = input(\"Enter a word: \")\n",
    "if keyword.iskeyword(word):\n",
    "    print(f\"{word} is a Python keyword.\")\n",
    "else:\n",
    "    print(f\"{word} is not a Python keyword.\")\n"
   ]
  },
  {
   "cell_type": "code",
   "execution_count": 17,
   "id": "92992734-3e63-46fb-a676-5744db34fba9",
   "metadata": {},
   "outputs": [
    {
     "name": "stdout",
     "output_type": "stream",
     "text": [
      "List after change: [1, 10, 3]\n",
      "Error: 'tuple' object does not support item assignment\n"
     ]
    }
   ],
   "source": [
    "#Create a list and tuple in Python, and demonstrate how attempting to change an element works\n",
    "\n",
    "# List (mutable)\n",
    "my_list = [1, 2, 3]\n",
    "try:\n",
    "    my_list[1] = 10  # Changing element of list\n",
    "    print(\"List after change:\", my_list)\n",
    "except TypeError as e:\n",
    "    print(\"Error:\", e)\n",
    "\n",
    "# Tuple (immutable)\n",
    "my_tuple = (1, 2, 3)\n",
    "try:\n",
    "    my_tuple[1] = 10  # Attempt to change element of tuple\n",
    "except TypeError as e:\n",
    "    print(\"Error:\", e)\n"
   ]
  },
  {
   "cell_type": "code",
   "execution_count": 19,
   "id": "2e18725f-d11f-4a73-bdd9-5896619c6675",
   "metadata": {},
   "outputs": [
    {
     "name": "stdout",
     "output_type": "stream",
     "text": [
      "Modified list: [1, 2, 3, 10]\n",
      "Modified value: 15\n"
     ]
    }
   ],
   "source": [
    "#Write a function to demonstrate the behavior of mutable and immutable arguments\n",
    "\n",
    "def modify_elements(lst, value):\n",
    "    lst.append(value)  # Mutable object modification\n",
    "    value += 5  # Immutable object modification\n",
    "    return lst, value\n",
    "\n",
    "my_list = [1, 2, 3]\n",
    "my_value = 10\n",
    "new_list, new_value = modify_elements(my_list, my_value)\n",
    "\n",
    "print(\"Modified list:\", new_list)\n",
    "print(\"Modified value:\", new_value)\n"
   ]
  },
  {
   "cell_type": "code",
   "execution_count": 21,
   "id": "30c611ae-9c25-47ee-8780-f93d0c1bdf39",
   "metadata": {},
   "outputs": [
    {
     "name": "stdout",
     "output_type": "stream",
     "text": [
      "Modified list: [1, 2, 3, 10]\n",
      "Modified value: 15\n"
     ]
    }
   ],
   "source": [
    "#Write a function to demonstrate the behavior of mutable and immutable arguments\n",
    "\n",
    "def modify_elements(lst, value):\n",
    "    lst.append(value)  # Mutable object modification\n",
    "    value += 5  # Immutable object modification\n",
    "    return lst, value\n",
    "\n",
    "my_list = [1, 2, 3]\n",
    "my_value = 10\n",
    "new_list, new_value = modify_elements(my_list, my_value)\n",
    "\n",
    "print(\"Modified list:\", new_list)\n",
    "print(\"Modified value:\", new_value)\n"
   ]
  },
  {
   "cell_type": "code",
   "execution_count": 23,
   "id": "97361fb2-4ce8-424a-86ec-bef30d6ffe70",
   "metadata": {},
   "outputs": [
    {
     "name": "stdout",
     "output_type": "stream",
     "text": [
      "a and b: False\n",
      "a or b: True\n",
      "not a: False\n"
     ]
    }
   ],
   "source": [
    "#Write a program to demonstrate the use of logical operators\n",
    "\n",
    "a = True\n",
    "b = False\n",
    "\n",
    "print(\"a and b:\", a and b)\n",
    "print(\"a or b:\", a or b)\n",
    "print(\"not a:\", not a)\n"
   ]
  },
  {
   "cell_type": "code",
   "execution_count": 25,
   "id": "78d3d37f-7021-450b-8cba-a055924d3a80",
   "metadata": {},
   "outputs": [
    {
     "name": "stdin",
     "output_type": "stream",
     "text": [
      "Enter a string:  7\n"
     ]
    },
    {
     "name": "stdout",
     "output_type": "stream",
     "text": [
      "Integer: 7\n",
      "Float: 7.0\n",
      "Boolean: True\n"
     ]
    }
   ],
   "source": [
    "#Write a Python program to convert user input from string to integer, float, and boolean types\n",
    "\n",
    "string_input = input(\"Enter a string: \")\n",
    "\n",
    "# Convert to integer \n",
    "try:\n",
    "    int_value = int(string_input)\n",
    "    print(f\"Integer: {int_value}\")\n",
    "except ValueError:\n",
    "    print(\"Cannot convert to integer.\")\n",
    "\n",
    "# Convert to float \n",
    "try:\n",
    "    float_value = float(string_input)\n",
    "    print(f\"Float: {float_value}\")\n",
    "except ValueError:\n",
    "    print(\"Cannot convert to float.\")\n",
    "\n",
    "# Convert to boolean\n",
    "bool_value = bool(string_input)\n",
    "print(f\"Boolean: {bool_value}\")\n"
   ]
  },
  {
   "cell_type": "code",
   "execution_count": 27,
   "id": "5e2e69dd-b7df-45dd-b66e-ccbd39082753",
   "metadata": {},
   "outputs": [
    {
     "name": "stdout",
     "output_type": "stream",
     "text": [
      "Casted list: [1, 2, 3, '4', 1]\n"
     ]
    }
   ],
   "source": [
    "#Write code to demonstrate type casting with list elements\n",
    "\n",
    "my_list = [1, 2, 3.5, \"4\", True]\n",
    "\n",
    "# Convert all elements to integers\n",
    "casted_list = [int(element) if isinstance(element, (float, bool)) else element for element in my_list]\n",
    "print(\"Casted list:\", casted_list)\n"
   ]
  },
  {
   "cell_type": "code",
   "execution_count": 29,
   "id": "ff639e2d-7aa2-48a3-8957-593576f8ac04",
   "metadata": {},
   "outputs": [
    {
     "name": "stdin",
     "output_type": "stream",
     "text": [
      "Enter a number:  9\n"
     ]
    },
    {
     "name": "stdout",
     "output_type": "stream",
     "text": [
      "The number is positive.\n"
     ]
    }
   ],
   "source": [
    "#Write a program that checks if a number is positive, negative, or zero\n",
    "\n",
    "number = float(input(\"Enter a number: \"))\n",
    "\n",
    "if number > 0:\n",
    "    print(\"The number is positive.\")\n",
    "elif number < 0:\n",
    "    print(\"The number is negative.\")\n",
    "else:\n",
    "    print(\"The number is zero.\")\n"
   ]
  },
  {
   "cell_type": "code",
   "execution_count": 31,
   "id": "370ca44e-9d33-4dce-abc0-ee1224968a39",
   "metadata": {},
   "outputs": [
    {
     "name": "stdout",
     "output_type": "stream",
     "text": [
      "1\n",
      "2\n",
      "3\n",
      "4\n",
      "5\n",
      "6\n",
      "7\n",
      "8\n",
      "9\n",
      "10\n"
     ]
    }
   ],
   "source": [
    "#Write a for loop to print numbers from 1 to 10\n",
    "\n",
    "for i in range(1, 11):\n",
    "    print(i)\n"
   ]
  },
  {
   "cell_type": "code",
   "execution_count": 33,
   "id": "c3d3ceb5-153d-45e0-a252-e1e61c7be1ee",
   "metadata": {},
   "outputs": [
    {
     "name": "stdout",
     "output_type": "stream",
     "text": [
      "Sum of even numbers between 1 and 50: 650\n"
     ]
    }
   ],
   "source": [
    "#Write a Python program to find the sum of all even numbers between 1 and 50\n",
    "\n",
    "sum_even = 0\n",
    "for num in range(2, 51, 2):\n",
    "    sum_even += num\n",
    "print(\"Sum of even numbers between 1 and 50:\", sum_even)\n"
   ]
  },
  {
   "cell_type": "code",
   "execution_count": 35,
   "id": "77ad4a85-f99f-439d-bebc-4595a18a18a6",
   "metadata": {},
   "outputs": [
    {
     "name": "stdin",
     "output_type": "stream",
     "text": [
      "Enter a string:  masum\n"
     ]
    },
    {
     "name": "stdout",
     "output_type": "stream",
     "text": [
      "Reversed string: musam\n"
     ]
    }
   ],
   "source": [
    "#Write a program to reverse a string using a while loop\n",
    "\n",
    "input_string = input(\"Enter a string: \")\n",
    "reversed_string = \"\"\n",
    "i = len(input_string) - 1\n",
    "\n",
    "while i >= 0:\n",
    "    reversed_string += input_string[i]\n",
    "    i -= 1\n",
    "\n",
    "print(\"Reversed string:\", reversed_string)\n"
   ]
  },
  {
   "cell_type": "code",
   "execution_count": null,
   "id": "8d1c86cc-f366-4813-b4b0-38067756f1a4",
   "metadata": {},
   "outputs": [],
   "source": []
  }
 ],
 "metadata": {
  "kernelspec": {
   "display_name": "Python 3 (ipykernel)",
   "language": "python",
   "name": "python3"
  },
  "language_info": {
   "codemirror_mode": {
    "name": "ipython",
    "version": 3
   },
   "file_extension": ".py",
   "mimetype": "text/x-python",
   "name": "python",
   "nbconvert_exporter": "python",
   "pygments_lexer": "ipython3",
   "version": "3.12.7"
  }
 },
 "nbformat": 4,
 "nbformat_minor": 5
}
